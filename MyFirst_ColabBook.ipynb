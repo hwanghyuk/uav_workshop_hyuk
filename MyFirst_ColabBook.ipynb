{
  "nbformat": 4,
  "nbformat_minor": 0,
  "metadata": {
    "colab": {
      "provenance": [],
      "authorship_tag": "ABX9TyPBZ2pVTEYgSMyPovodnyob",
      "include_colab_link": true
    },
    "kernelspec": {
      "name": "python3",
      "display_name": "Python 3"
    },
    "language_info": {
      "name": "python"
    }
  },
  "cells": [
    {
      "cell_type": "markdown",
      "metadata": {
        "id": "view-in-github",
        "colab_type": "text"
      },
      "source": [
        "<a href=\"https://colab.research.google.com/github/kingsman1234-uav-workshop/uav_workshop_hyuk/blob/main/MyFirst_ColabBook.ipynb\" target=\"_parent\"><img src=\"https://colab.research.google.com/assets/colab-badge.svg\" alt=\"Open In Colab\"/></a>"
      ]
    },
    {
      "cell_type": "markdown",
      "source": [
        "## My First Colab Notebook\n",
        "\n",
        "### Below is a sample program "
      ],
      "metadata": {
        "id": "g5-I7LLy4wS_"
      }
    },
    {
      "cell_type": "code",
      "source": [
        "print(\"Hello CNU&Han\")"
      ],
      "metadata": {
        "colab": {
          "base_uri": "https://localhost:8080/"
        },
        "id": "OaIw3DYG49Nt",
        "outputId": "5bc6237c-f214-4d3a-c627-493096b9c503"
      },
      "execution_count": 1,
      "outputs": [
        {
          "output_type": "stream",
          "name": "stdout",
          "text": [
            "Hello CNU&Han\n"
          ]
        }
      ]
    },
    {
      "cell_type": "markdown",
      "source": [
        "This is how a cammand looks like in colab"
      ],
      "metadata": {
        "id": "6BQAUbKv5Lix"
      }
    },
    {
      "cell_type": "code",
      "source": [],
      "metadata": {
        "id": "AYH9ft6j5Xjw"
      },
      "execution_count": null,
      "outputs": []
    }
  ]
}